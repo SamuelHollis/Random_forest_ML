{
 "cells": [
  {
   "cell_type": "code",
   "execution_count": 2,
   "metadata": {},
   "outputs": [],
   "source": [
    "import pandas as pd\n",
    "import urllib.request\n",
    "import ssl\n",
    "\n",
    "url = 'https://raw.githubusercontent.com/4GeeksAcademy/decision-tree-project-tutorial/main/diabetes.csv'\n",
    "\n",
    "ssl_context = urllib.request.urlopen(url, context=ssl._create_unverified_context())\n",
    "\n",
    "df = pd.read_csv(ssl_context, index_col=None)\n",
    "\n",
    "df.to_csv('/Users/SamuelHollis/Desktop/4GeeksAcademy/20a clase-Arbol_de_Decisión/Arbol_de_Decision_Project/data/raw/data', index=False)"
   ]
  }
 ],
 "metadata": {
  "kernelspec": {
   "display_name": "Python 3",
   "language": "python",
   "name": "python3"
  },
  "language_info": {
   "codemirror_mode": {
    "name": "ipython",
    "version": 3
   },
   "file_extension": ".py",
   "mimetype": "text/x-python",
   "name": "python",
   "nbconvert_exporter": "python",
   "pygments_lexer": "ipython3",
   "version": "3.12.2"
  }
 },
 "nbformat": 4,
 "nbformat_minor": 2
}
